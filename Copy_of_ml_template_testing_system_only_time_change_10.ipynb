{
  "cells": [
    {
      "cell_type": "code",
      "execution_count": 2,
      "metadata": {
        "id": "GJqmiBVpbULb"
      },
      "outputs": [],
      "source": [
        "import pandas as pd\n",
        "import numpy as np\n",
        "import matplotlib.pyplot as plt\n",
        "import tensorflow as tf\n",
        "from tensorflow import keras\n",
        "import os\n",
        "from collections import Counter\n",
        "from imblearn.over_sampling import SMOTE\n",
        "from datetime import datetime\n",
        "from sklearn.decomposition import PCA"
      ]
    },
    {
      "cell_type": "code",
      "execution_count": 3,
      "metadata": {
        "colab": {
          "base_uri": "https://localhost:8080/"
        },
        "id": "hN-E71Sgd5ST",
        "outputId": "2bed7d68-92e5-42cf-ee8e-a56d5f9ba01f"
      },
      "outputs": [],
      "source": [
        "# from google.colab import drive\n",
        "# drive.mount('/content/drive')"
      ]
    },
    {
      "cell_type": "code",
      "execution_count": 4,
      "metadata": {
        "id": "YcIIj8GceT4W"
      },
      "outputs": [],
      "source": [
        "# os.chdir('/content/drive/MyDrive/AI SGS Competition')"
      ]
    },
    {
      "cell_type": "code",
      "execution_count": 5,
      "metadata": {
        "colab": {
          "base_uri": "https://localhost:8080/",
          "height": 522
        },
        "id": "9m3sARdubULf",
        "outputId": "e183af1b-5dc6-4de3-aee0-a51a9c601cde"
      },
      "outputs": [
        {
          "data": {
            "text/html": [
              "<div>\n",
              "<style scoped>\n",
              "    .dataframe tbody tr th:only-of-type {\n",
              "        vertical-align: middle;\n",
              "    }\n",
              "\n",
              "    .dataframe tbody tr th {\n",
              "        vertical-align: top;\n",
              "    }\n",
              "\n",
              "    .dataframe thead th {\n",
              "        text-align: right;\n",
              "    }\n",
              "</style>\n",
              "<table border=\"1\" class=\"dataframe\">\n",
              "  <thead>\n",
              "    <tr style=\"text-align: right;\">\n",
              "      <th></th>\n",
              "      <th>69 m/z</th>\n",
              "      <th>70 m/z</th>\n",
              "      <th>219 m/z</th>\n",
              "      <th>220 m/z</th>\n",
              "      <th>502 m/z</th>\n",
              "      <th>503 m/z</th>\n",
              "      <th>Amu gain</th>\n",
              "      <th>Amu offset</th>\n",
              "      <th>EM Volts</th>\n",
              "      <th>Ent Lens</th>\n",
              "      <th>...</th>\n",
              "      <th>502_to_69_ratio pct change 1days</th>\n",
              "      <th>502_to_69_ratio pct change 2days</th>\n",
              "      <th>502_to_69_ratio pct change 3days</th>\n",
              "      <th>502_to_69_ratio pct change 4days</th>\n",
              "      <th>502_to_69_ratio pct change 5days</th>\n",
              "      <th>502_to_69_ratio pct change 6days</th>\n",
              "      <th>502_to_69_ratio pct change 7days</th>\n",
              "      <th>502_to_69_ratio pct change 8days</th>\n",
              "      <th>502_to_69_ratio pct change 9days</th>\n",
              "      <th>502_to_69_ratio pct change 10days</th>\n",
              "    </tr>\n",
              "  </thead>\n",
              "  <tbody>\n",
              "    <tr>\n",
              "      <th>0</th>\n",
              "      <td>389888</td>\n",
              "      <td>4815</td>\n",
              "      <td>352320</td>\n",
              "      <td>15620</td>\n",
              "      <td>24096</td>\n",
              "      <td>2770</td>\n",
              "      <td>2503</td>\n",
              "      <td>127</td>\n",
              "      <td>1718</td>\n",
              "      <td>7.0</td>\n",
              "      <td>...</td>\n",
              "      <td>0.000000</td>\n",
              "      <td>0.000000</td>\n",
              "      <td>0.000000</td>\n",
              "      <td>0.000000</td>\n",
              "      <td>0.000000</td>\n",
              "      <td>0.000000</td>\n",
              "      <td>0.000000</td>\n",
              "      <td>0.000000</td>\n",
              "      <td>0.000000</td>\n",
              "      <td>0.000000</td>\n",
              "    </tr>\n",
              "    <tr>\n",
              "      <th>1</th>\n",
              "      <td>322880</td>\n",
              "      <td>3532</td>\n",
              "      <td>359616</td>\n",
              "      <td>15261</td>\n",
              "      <td>27592</td>\n",
              "      <td>2709</td>\n",
              "      <td>2496</td>\n",
              "      <td>126</td>\n",
              "      <td>1812</td>\n",
              "      <td>12.0</td>\n",
              "      <td>...</td>\n",
              "      <td>38.272862</td>\n",
              "      <td>0.000000</td>\n",
              "      <td>0.000000</td>\n",
              "      <td>0.000000</td>\n",
              "      <td>0.000000</td>\n",
              "      <td>0.000000</td>\n",
              "      <td>0.000000</td>\n",
              "      <td>0.000000</td>\n",
              "      <td>0.000000</td>\n",
              "      <td>0.000000</td>\n",
              "    </tr>\n",
              "    <tr>\n",
              "      <th>2</th>\n",
              "      <td>316608</td>\n",
              "      <td>3490</td>\n",
              "      <td>379840</td>\n",
              "      <td>16608</td>\n",
              "      <td>29992</td>\n",
              "      <td>3163</td>\n",
              "      <td>2491</td>\n",
              "      <td>126</td>\n",
              "      <td>1718</td>\n",
              "      <td>12.0</td>\n",
              "      <td>...</td>\n",
              "      <td>10.851483</td>\n",
              "      <td>53.277517</td>\n",
              "      <td>0.000000</td>\n",
              "      <td>0.000000</td>\n",
              "      <td>0.000000</td>\n",
              "      <td>0.000000</td>\n",
              "      <td>0.000000</td>\n",
              "      <td>0.000000</td>\n",
              "      <td>0.000000</td>\n",
              "      <td>0.000000</td>\n",
              "    </tr>\n",
              "    <tr>\n",
              "      <th>3</th>\n",
              "      <td>296128</td>\n",
              "      <td>3154</td>\n",
              "      <td>368064</td>\n",
              "      <td>15829</td>\n",
              "      <td>28832</td>\n",
              "      <td>2954</td>\n",
              "      <td>2491</td>\n",
              "      <td>125</td>\n",
              "      <td>1765</td>\n",
              "      <td>12.0</td>\n",
              "      <td>...</td>\n",
              "      <td>2.780743</td>\n",
              "      <td>13.933977</td>\n",
              "      <td>57.539771</td>\n",
              "      <td>0.000000</td>\n",
              "      <td>0.000000</td>\n",
              "      <td>0.000000</td>\n",
              "      <td>0.000000</td>\n",
              "      <td>0.000000</td>\n",
              "      <td>0.000000</td>\n",
              "      <td>0.000000</td>\n",
              "    </tr>\n",
              "    <tr>\n",
              "      <th>4</th>\n",
              "      <td>300544</td>\n",
              "      <td>2958</td>\n",
              "      <td>375296</td>\n",
              "      <td>16720</td>\n",
              "      <td>29136</td>\n",
              "      <td>2995</td>\n",
              "      <td>2490</td>\n",
              "      <td>125</td>\n",
              "      <td>1812</td>\n",
              "      <td>12.0</td>\n",
              "      <td>...</td>\n",
              "      <td>-0.430444</td>\n",
              "      <td>2.338329</td>\n",
              "      <td>13.443555</td>\n",
              "      <td>56.861651</td>\n",
              "      <td>0.000000</td>\n",
              "      <td>0.000000</td>\n",
              "      <td>0.000000</td>\n",
              "      <td>0.000000</td>\n",
              "      <td>0.000000</td>\n",
              "      <td>0.000000</td>\n",
              "    </tr>\n",
              "    <tr>\n",
              "      <th>...</th>\n",
              "      <td>...</td>\n",
              "      <td>...</td>\n",
              "      <td>...</td>\n",
              "      <td>...</td>\n",
              "      <td>...</td>\n",
              "      <td>...</td>\n",
              "      <td>...</td>\n",
              "      <td>...</td>\n",
              "      <td>...</td>\n",
              "      <td>...</td>\n",
              "      <td>...</td>\n",
              "      <td>...</td>\n",
              "      <td>...</td>\n",
              "      <td>...</td>\n",
              "      <td>...</td>\n",
              "      <td>...</td>\n",
              "      <td>...</td>\n",
              "      <td>...</td>\n",
              "      <td>...</td>\n",
              "      <td>...</td>\n",
              "      <td>...</td>\n",
              "    </tr>\n",
              "    <tr>\n",
              "      <th>14</th>\n",
              "      <td>440512</td>\n",
              "      <td>5046</td>\n",
              "      <td>449856</td>\n",
              "      <td>19000</td>\n",
              "      <td>59912</td>\n",
              "      <td>5996</td>\n",
              "      <td>2478</td>\n",
              "      <td>127</td>\n",
              "      <td>1706</td>\n",
              "      <td>12.0</td>\n",
              "      <td>...</td>\n",
              "      <td>35.227228</td>\n",
              "      <td>14.444050</td>\n",
              "      <td>15.234680</td>\n",
              "      <td>13.936579</td>\n",
              "      <td>22.482853</td>\n",
              "      <td>-13.188058</td>\n",
              "      <td>-23.393296</td>\n",
              "      <td>-26.061671</td>\n",
              "      <td>-18.294253</td>\n",
              "      <td>-26.566907</td>\n",
              "    </tr>\n",
              "    <tr>\n",
              "      <th>15</th>\n",
              "      <td>449920</td>\n",
              "      <td>5018</td>\n",
              "      <td>409472</td>\n",
              "      <td>18504</td>\n",
              "      <td>53848</td>\n",
              "      <td>5196</td>\n",
              "      <td>2480</td>\n",
              "      <td>127</td>\n",
              "      <td>1659</td>\n",
              "      <td>14.5</td>\n",
              "      <td>...</td>\n",
              "      <td>-12.000905</td>\n",
              "      <td>18.998737</td>\n",
              "      <td>0.709728</td>\n",
              "      <td>1.405475</td>\n",
              "      <td>0.263158</td>\n",
              "      <td>7.783801</td>\n",
              "      <td>-23.606277</td>\n",
              "      <td>-32.586794</td>\n",
              "      <td>-34.934940</td>\n",
              "      <td>-28.099682</td>\n",
              "    </tr>\n",
              "    <tr>\n",
              "      <th>16</th>\n",
              "      <td>381056</td>\n",
              "      <td>4220</td>\n",
              "      <td>242816</td>\n",
              "      <td>9745</td>\n",
              "      <td>28904</td>\n",
              "      <td>2786</td>\n",
              "      <td>2485</td>\n",
              "      <td>128</td>\n",
              "      <td>1659</td>\n",
              "      <td>14.5</td>\n",
              "      <td>...</td>\n",
              "      <td>-36.622535</td>\n",
              "      <td>-44.228404</td>\n",
              "      <td>-24.581617</td>\n",
              "      <td>-36.172727</td>\n",
              "      <td>-35.731780</td>\n",
              "      <td>-36.455752</td>\n",
              "      <td>-31.689359</td>\n",
              "      <td>-51.583595</td>\n",
              "      <td>-57.275219</td>\n",
              "      <td>-58.763414</td>\n",
              "    </tr>\n",
              "    <tr>\n",
              "      <th>17</th>\n",
              "      <td>358720</td>\n",
              "      <td>3942</td>\n",
              "      <td>226816</td>\n",
              "      <td>10157</td>\n",
              "      <td>31592</td>\n",
              "      <td>3328</td>\n",
              "      <td>2480</td>\n",
              "      <td>128</td>\n",
              "      <td>1706</td>\n",
              "      <td>12.0</td>\n",
              "      <td>...</td>\n",
              "      <td>16.105391</td>\n",
              "      <td>-26.415346</td>\n",
              "      <td>-35.246171</td>\n",
              "      <td>-12.435191</td>\n",
              "      <td>-25.893095</td>\n",
              "      <td>-25.381132</td>\n",
              "      <td>-26.221702</td>\n",
              "      <td>-20.687663</td>\n",
              "      <td>-43.785943</td>\n",
              "      <td>-50.394226</td>\n",
              "    </tr>\n",
              "    <tr>\n",
              "      <th>18</th>\n",
              "      <td>385408</td>\n",
              "      <td>4646</td>\n",
              "      <td>243392</td>\n",
              "      <td>11043</td>\n",
              "      <td>31136</td>\n",
              "      <td>3272</td>\n",
              "      <td>2477</td>\n",
              "      <td>127</td>\n",
              "      <td>1659</td>\n",
              "      <td>9.5</td>\n",
              "      <td>...</td>\n",
              "      <td>-8.268063</td>\n",
              "      <td>6.505724</td>\n",
              "      <td>-32.499372</td>\n",
              "      <td>-40.600058</td>\n",
              "      <td>-19.675105</td>\n",
              "      <td>-32.020301</td>\n",
              "      <td>-31.550667</td>\n",
              "      <td>-32.321739</td>\n",
              "      <td>-27.245257</td>\n",
              "      <td>-48.433757</td>\n",
              "    </tr>\n",
              "  </tbody>\n",
              "</table>\n",
              "<p>114 rows × 40 columns</p>\n",
              "</div>"
            ],
            "text/plain": [
              "    69 m/z  70 m/z  219 m/z  220 m/z  502 m/z  503 m/z  Amu gain  Amu offset  \\\n",
              "0   389888    4815   352320    15620    24096     2770      2503         127   \n",
              "1   322880    3532   359616    15261    27592     2709      2496         126   \n",
              "2   316608    3490   379840    16608    29992     3163      2491         126   \n",
              "3   296128    3154   368064    15829    28832     2954      2491         125   \n",
              "4   300544    2958   375296    16720    29136     2995      2490         125   \n",
              "..     ...     ...      ...      ...      ...      ...       ...         ...   \n",
              "14  440512    5046   449856    19000    59912     5996      2478         127   \n",
              "15  449920    5018   409472    18504    53848     5196      2480         127   \n",
              "16  381056    4220   242816     9745    28904     2786      2485         128   \n",
              "17  358720    3942   226816    10157    31592     3328      2480         128   \n",
              "18  385408    4646   243392    11043    31136     3272      2477         127   \n",
              "\n",
              "    EM Volts  Ent Lens  ...  502_to_69_ratio pct change 1days  \\\n",
              "0       1718       7.0  ...                          0.000000   \n",
              "1       1812      12.0  ...                         38.272862   \n",
              "2       1718      12.0  ...                         10.851483   \n",
              "3       1765      12.0  ...                          2.780743   \n",
              "4       1812      12.0  ...                         -0.430444   \n",
              "..       ...       ...  ...                               ...   \n",
              "14      1706      12.0  ...                         35.227228   \n",
              "15      1659      14.5  ...                        -12.000905   \n",
              "16      1659      14.5  ...                        -36.622535   \n",
              "17      1706      12.0  ...                         16.105391   \n",
              "18      1659       9.5  ...                         -8.268063   \n",
              "\n",
              "    502_to_69_ratio pct change 2days  502_to_69_ratio pct change 3days  \\\n",
              "0                           0.000000                          0.000000   \n",
              "1                           0.000000                          0.000000   \n",
              "2                          53.277517                          0.000000   \n",
              "3                          13.933977                         57.539771   \n",
              "4                           2.338329                         13.443555   \n",
              "..                               ...                               ...   \n",
              "14                         14.444050                         15.234680   \n",
              "15                         18.998737                          0.709728   \n",
              "16                        -44.228404                        -24.581617   \n",
              "17                        -26.415346                        -35.246171   \n",
              "18                          6.505724                        -32.499372   \n",
              "\n",
              "    502_to_69_ratio pct change 4days  502_to_69_ratio pct change 5days  \\\n",
              "0                           0.000000                          0.000000   \n",
              "1                           0.000000                          0.000000   \n",
              "2                           0.000000                          0.000000   \n",
              "3                           0.000000                          0.000000   \n",
              "4                          56.861651                          0.000000   \n",
              "..                               ...                               ...   \n",
              "14                         13.936579                         22.482853   \n",
              "15                          1.405475                          0.263158   \n",
              "16                        -36.172727                        -35.731780   \n",
              "17                        -12.435191                        -25.893095   \n",
              "18                        -40.600058                        -19.675105   \n",
              "\n",
              "    502_to_69_ratio pct change 6days  502_to_69_ratio pct change 7days  \\\n",
              "0                           0.000000                          0.000000   \n",
              "1                           0.000000                          0.000000   \n",
              "2                           0.000000                          0.000000   \n",
              "3                           0.000000                          0.000000   \n",
              "4                           0.000000                          0.000000   \n",
              "..                               ...                               ...   \n",
              "14                        -13.188058                        -23.393296   \n",
              "15                          7.783801                        -23.606277   \n",
              "16                        -36.455752                        -31.689359   \n",
              "17                        -25.381132                        -26.221702   \n",
              "18                        -32.020301                        -31.550667   \n",
              "\n",
              "    502_to_69_ratio pct change 8days  502_to_69_ratio pct change 9days  \\\n",
              "0                           0.000000                          0.000000   \n",
              "1                           0.000000                          0.000000   \n",
              "2                           0.000000                          0.000000   \n",
              "3                           0.000000                          0.000000   \n",
              "4                           0.000000                          0.000000   \n",
              "..                               ...                               ...   \n",
              "14                        -26.061671                        -18.294253   \n",
              "15                        -32.586794                        -34.934940   \n",
              "16                        -51.583595                        -57.275219   \n",
              "17                        -20.687663                        -43.785943   \n",
              "18                        -32.321739                        -27.245257   \n",
              "\n",
              "    502_to_69_ratio pct change 10days  \n",
              "0                            0.000000  \n",
              "1                            0.000000  \n",
              "2                            0.000000  \n",
              "3                            0.000000  \n",
              "4                            0.000000  \n",
              "..                                ...  \n",
              "14                         -26.566907  \n",
              "15                         -28.099682  \n",
              "16                         -58.763414  \n",
              "17                         -50.394226  \n",
              "18                         -48.433757  \n",
              "\n",
              "[114 rows x 40 columns]"
            ]
          },
          "execution_count": 5,
          "metadata": {},
          "output_type": "execute_result"
        }
      ],
      "source": [
        "path = \"Data/train\"\n",
        "os.listdir(path)\n",
        "df1 = pd.DataFrame()\n",
        "for file in os.listdir(path):\n",
        "    if (file.endswith('.csv')) & (file.startswith('19')):\n",
        "        df = pd.read_csv(path + \"/\"+ file)\n",
        "\n",
        "        df.drop(['Filament'], axis=1, inplace=True) # Drop Filament column\n",
        "        df.drop(['Emission'], axis=1, inplace=True) # Drop Emission column\n",
        "        df.drop(['Temp'], axis=1, inplace=True) # Drop Temp column\n",
        "        df.drop(['Test ID'], axis=1, inplace=True) # Drop Test ID column\n",
        "\n",
        "        df['502_to_69_ratio'] = df['502 m/z'] / df['69 m/z'] # Create new column with ratio of 502 m/z to 69 m/z\n",
        "\n",
        "        ############################################\n",
        "        #clean the datetime format\n",
        "        def clean_date(date):\n",
        "            if 'UTC' in date:\n",
        "                date = date.split('(')[0]\n",
        "                date = date.split(\"  \")[0]\n",
        "            return date\n",
        "\n",
        "        def convert_to_datetime(date):\n",
        "            date_string = date\n",
        "            date_format = '%d/%m/%Y %I:%M %p'\n",
        "\n",
        "            datetime_obj = datetime.strptime(date_string, date_format)\n",
        "            formatted_datetime = datetime_obj.strftime('%Y-%m-%d %H:%M:%S')\n",
        "            return formatted_datetime\n",
        "\n",
        "        df['Tune Date'] = df['Tune Date'].apply(lambda x: clean_date(x))\n",
        "        if 'UTC' in df['Tune Date'][0]:\n",
        "            df['Tune Date'] = df['Tune Date'].apply(lambda x: convert_to_datetime(x))\n",
        "\n",
        "        df['Tune Date'] = pd.to_datetime(df['Tune Date'])\n",
        "        df['total_hour_diff'] = df['Tune Date'].diff().apply(lambda x: x.total_seconds()/3600) # new column with total hour difference\n",
        "\n",
        "        df.drop(['Tune Date'], axis=1, inplace=True) # Drop Tune Date column\n",
        "        ############################################\n",
        "\n",
        "        # Perform PCA on the highly correlated columns\n",
        "        pca = PCA(n_components=1)\n",
        "        components = pca.fit_transform(df[['69 m/z', '70 m/z']])\n",
        "        # print(pca.explained_variance_ratio_)\n",
        "        df['PCA_Component 69 m/z'] = components\n",
        "\n",
        "        pca = PCA(n_components=1)\n",
        "        components = pca.fit_transform(df[['219 m/z', '220 m/z']])\n",
        "        # print(pca.explained_variance_ratio_)\n",
        "        df['PCA_Component 219 m/z'] = components\n",
        "\n",
        "        pca = PCA(n_components=1)\n",
        "        components = pca.fit_transform(df[['502 m/z', '503 m/z']])\n",
        "        # print(pca.explained_variance_ratio_)\n",
        "        df['PCA_Component 502 m/z'] = components\n",
        "\n",
        "        # add columns for pct change\n",
        "        def precent_change(col_name , periods):\n",
        "            df[col_name + \" pct change \" + str(periods) + 'days'] = df[col_name].pct_change(periods=periods) * 100\n",
        "            return df[col_name + \" pct change \" + str(periods) + 'days']\n",
        "\n",
        "        for i in range (10):\n",
        "            precent_change('EM Volts', i+1)\n",
        "        for i in range (10):\n",
        "            precent_change('502_to_69_ratio', i+1)\n",
        "\n",
        "        df1 = pd.concat([df1,df])\n",
        "\n",
        "df1.fillna(0, inplace=True) # fill all NaN values with 0\n",
        "\n",
        "# # Perform one-hot encoding\n",
        "# one_hot_encoded = pd.get_dummies(df1['System'], prefix='System')\n",
        "# # Concatenate the one-hot encoded DataFrame with the original DataFrame\n",
        "# df1 = pd.concat([df1, one_hot_encoded], axis=1)\n",
        "#drop System column\n",
        "df1.drop(['System'], axis=1, inplace=True)\n",
        "df1.drop(['ID'], axis=1, inplace=True)\n",
        "df1"
      ]
    },
    {
      "cell_type": "code",
      "execution_count": 6,
      "metadata": {
        "colab": {
          "base_uri": "https://localhost:8080/",
          "height": 576
        },
        "id": "TtCN-WizbULj",
        "outputId": "d7740ad5-fda3-41b6-eb7d-3501158d4bfd"
      },
      "outputs": [
        {
          "ename": "KeyError",
          "evalue": "\"['Filament'] not found in axis\"",
          "output_type": "error",
          "traceback": [
            "\u001b[0;31m---------------------------------------------------------------------------\u001b[0m",
            "\u001b[0;31mKeyError\u001b[0m                                  Traceback (most recent call last)",
            "Cell \u001b[0;32mIn[6], line 8\u001b[0m\n\u001b[1;32m      5\u001b[0m df \u001b[39m=\u001b[39m pd\u001b[39m.\u001b[39mDataFrame()\n\u001b[1;32m      6\u001b[0m df \u001b[39m=\u001b[39m pd\u001b[39m.\u001b[39mread_csv(path \u001b[39m+\u001b[39m \u001b[39m\"\u001b[39m\u001b[39m/\u001b[39m\u001b[39m\"\u001b[39m\u001b[39m+\u001b[39m file)\n\u001b[0;32m----> 8\u001b[0m df\u001b[39m.\u001b[39;49mdrop([\u001b[39m'\u001b[39;49m\u001b[39mFilament\u001b[39;49m\u001b[39m'\u001b[39;49m], axis\u001b[39m=\u001b[39;49m\u001b[39m1\u001b[39;49m, inplace\u001b[39m=\u001b[39;49m\u001b[39mTrue\u001b[39;49;00m) \u001b[39m# Drop Filament column\u001b[39;00m\n\u001b[1;32m      9\u001b[0m df\u001b[39m.\u001b[39mdrop([\u001b[39m'\u001b[39m\u001b[39mEmission\u001b[39m\u001b[39m'\u001b[39m], axis\u001b[39m=\u001b[39m\u001b[39m1\u001b[39m, inplace\u001b[39m=\u001b[39m\u001b[39mTrue\u001b[39;00m) \u001b[39m# Drop Emission column\u001b[39;00m\n\u001b[1;32m     10\u001b[0m df\u001b[39m.\u001b[39mdrop([\u001b[39m'\u001b[39m\u001b[39mTemp\u001b[39m\u001b[39m'\u001b[39m], axis\u001b[39m=\u001b[39m\u001b[39m1\u001b[39m, inplace\u001b[39m=\u001b[39m\u001b[39mTrue\u001b[39;00m) \u001b[39m# Drop Temp column\u001b[39;00m\n",
            "File \u001b[0;32m~/opt/anaconda3/lib/python3.9/site-packages/pandas/util/_decorators.py:331\u001b[0m, in \u001b[0;36mdeprecate_nonkeyword_arguments.<locals>.decorate.<locals>.wrapper\u001b[0;34m(*args, **kwargs)\u001b[0m\n\u001b[1;32m    325\u001b[0m \u001b[39mif\u001b[39;00m \u001b[39mlen\u001b[39m(args) \u001b[39m>\u001b[39m num_allow_args:\n\u001b[1;32m    326\u001b[0m     warnings\u001b[39m.\u001b[39mwarn(\n\u001b[1;32m    327\u001b[0m         msg\u001b[39m.\u001b[39mformat(arguments\u001b[39m=\u001b[39m_format_argument_list(allow_args)),\n\u001b[1;32m    328\u001b[0m         \u001b[39mFutureWarning\u001b[39;00m,\n\u001b[1;32m    329\u001b[0m         stacklevel\u001b[39m=\u001b[39mfind_stack_level(),\n\u001b[1;32m    330\u001b[0m     )\n\u001b[0;32m--> 331\u001b[0m \u001b[39mreturn\u001b[39;00m func(\u001b[39m*\u001b[39;49margs, \u001b[39m*\u001b[39;49m\u001b[39m*\u001b[39;49mkwargs)\n",
            "File \u001b[0;32m~/opt/anaconda3/lib/python3.9/site-packages/pandas/core/frame.py:5399\u001b[0m, in \u001b[0;36mDataFrame.drop\u001b[0;34m(self, labels, axis, index, columns, level, inplace, errors)\u001b[0m\n\u001b[1;32m   5251\u001b[0m \u001b[39m@deprecate_nonkeyword_arguments\u001b[39m(version\u001b[39m=\u001b[39m\u001b[39mNone\u001b[39;00m, allowed_args\u001b[39m=\u001b[39m[\u001b[39m\"\u001b[39m\u001b[39mself\u001b[39m\u001b[39m\"\u001b[39m, \u001b[39m\"\u001b[39m\u001b[39mlabels\u001b[39m\u001b[39m\"\u001b[39m])\n\u001b[1;32m   5252\u001b[0m \u001b[39mdef\u001b[39;00m \u001b[39mdrop\u001b[39m(  \u001b[39m# type: ignore[override]\u001b[39;00m\n\u001b[1;32m   5253\u001b[0m     \u001b[39mself\u001b[39m,\n\u001b[0;32m   (...)\u001b[0m\n\u001b[1;32m   5260\u001b[0m     errors: IgnoreRaise \u001b[39m=\u001b[39m \u001b[39m\"\u001b[39m\u001b[39mraise\u001b[39m\u001b[39m\"\u001b[39m,\n\u001b[1;32m   5261\u001b[0m ) \u001b[39m-\u001b[39m\u001b[39m>\u001b[39m DataFrame \u001b[39m|\u001b[39m \u001b[39mNone\u001b[39;00m:\n\u001b[1;32m   5262\u001b[0m     \u001b[39m\"\"\"\u001b[39;00m\n\u001b[1;32m   5263\u001b[0m \u001b[39m    Drop specified labels from rows or columns.\u001b[39;00m\n\u001b[1;32m   5264\u001b[0m \n\u001b[0;32m   (...)\u001b[0m\n\u001b[1;32m   5397\u001b[0m \u001b[39m            weight  1.0     0.8\u001b[39;00m\n\u001b[1;32m   5398\u001b[0m \u001b[39m    \"\"\"\u001b[39;00m\n\u001b[0;32m-> 5399\u001b[0m     \u001b[39mreturn\u001b[39;00m \u001b[39msuper\u001b[39;49m()\u001b[39m.\u001b[39;49mdrop(\n\u001b[1;32m   5400\u001b[0m         labels\u001b[39m=\u001b[39;49mlabels,\n\u001b[1;32m   5401\u001b[0m         axis\u001b[39m=\u001b[39;49maxis,\n\u001b[1;32m   5402\u001b[0m         index\u001b[39m=\u001b[39;49mindex,\n\u001b[1;32m   5403\u001b[0m         columns\u001b[39m=\u001b[39;49mcolumns,\n\u001b[1;32m   5404\u001b[0m         level\u001b[39m=\u001b[39;49mlevel,\n\u001b[1;32m   5405\u001b[0m         inplace\u001b[39m=\u001b[39;49minplace,\n\u001b[1;32m   5406\u001b[0m         errors\u001b[39m=\u001b[39;49merrors,\n\u001b[1;32m   5407\u001b[0m     )\n",
            "File \u001b[0;32m~/opt/anaconda3/lib/python3.9/site-packages/pandas/util/_decorators.py:331\u001b[0m, in \u001b[0;36mdeprecate_nonkeyword_arguments.<locals>.decorate.<locals>.wrapper\u001b[0;34m(*args, **kwargs)\u001b[0m\n\u001b[1;32m    325\u001b[0m \u001b[39mif\u001b[39;00m \u001b[39mlen\u001b[39m(args) \u001b[39m>\u001b[39m num_allow_args:\n\u001b[1;32m    326\u001b[0m     warnings\u001b[39m.\u001b[39mwarn(\n\u001b[1;32m    327\u001b[0m         msg\u001b[39m.\u001b[39mformat(arguments\u001b[39m=\u001b[39m_format_argument_list(allow_args)),\n\u001b[1;32m    328\u001b[0m         \u001b[39mFutureWarning\u001b[39;00m,\n\u001b[1;32m    329\u001b[0m         stacklevel\u001b[39m=\u001b[39mfind_stack_level(),\n\u001b[1;32m    330\u001b[0m     )\n\u001b[0;32m--> 331\u001b[0m \u001b[39mreturn\u001b[39;00m func(\u001b[39m*\u001b[39;49margs, \u001b[39m*\u001b[39;49m\u001b[39m*\u001b[39;49mkwargs)\n",
            "File \u001b[0;32m~/opt/anaconda3/lib/python3.9/site-packages/pandas/core/generic.py:4505\u001b[0m, in \u001b[0;36mNDFrame.drop\u001b[0;34m(self, labels, axis, index, columns, level, inplace, errors)\u001b[0m\n\u001b[1;32m   4503\u001b[0m \u001b[39mfor\u001b[39;00m axis, labels \u001b[39min\u001b[39;00m axes\u001b[39m.\u001b[39mitems():\n\u001b[1;32m   4504\u001b[0m     \u001b[39mif\u001b[39;00m labels \u001b[39mis\u001b[39;00m \u001b[39mnot\u001b[39;00m \u001b[39mNone\u001b[39;00m:\n\u001b[0;32m-> 4505\u001b[0m         obj \u001b[39m=\u001b[39m obj\u001b[39m.\u001b[39;49m_drop_axis(labels, axis, level\u001b[39m=\u001b[39;49mlevel, errors\u001b[39m=\u001b[39;49merrors)\n\u001b[1;32m   4507\u001b[0m \u001b[39mif\u001b[39;00m inplace:\n\u001b[1;32m   4508\u001b[0m     \u001b[39mself\u001b[39m\u001b[39m.\u001b[39m_update_inplace(obj)\n",
            "File \u001b[0;32m~/opt/anaconda3/lib/python3.9/site-packages/pandas/core/generic.py:4546\u001b[0m, in \u001b[0;36mNDFrame._drop_axis\u001b[0;34m(self, labels, axis, level, errors, only_slice)\u001b[0m\n\u001b[1;32m   4544\u001b[0m         new_axis \u001b[39m=\u001b[39m axis\u001b[39m.\u001b[39mdrop(labels, level\u001b[39m=\u001b[39mlevel, errors\u001b[39m=\u001b[39merrors)\n\u001b[1;32m   4545\u001b[0m     \u001b[39melse\u001b[39;00m:\n\u001b[0;32m-> 4546\u001b[0m         new_axis \u001b[39m=\u001b[39m axis\u001b[39m.\u001b[39;49mdrop(labels, errors\u001b[39m=\u001b[39;49merrors)\n\u001b[1;32m   4547\u001b[0m     indexer \u001b[39m=\u001b[39m axis\u001b[39m.\u001b[39mget_indexer(new_axis)\n\u001b[1;32m   4549\u001b[0m \u001b[39m# Case for non-unique axis\u001b[39;00m\n\u001b[1;32m   4550\u001b[0m \u001b[39melse\u001b[39;00m:\n",
            "File \u001b[0;32m~/opt/anaconda3/lib/python3.9/site-packages/pandas/core/indexes/base.py:6934\u001b[0m, in \u001b[0;36mIndex.drop\u001b[0;34m(self, labels, errors)\u001b[0m\n\u001b[1;32m   6932\u001b[0m \u001b[39mif\u001b[39;00m mask\u001b[39m.\u001b[39many():\n\u001b[1;32m   6933\u001b[0m     \u001b[39mif\u001b[39;00m errors \u001b[39m!=\u001b[39m \u001b[39m\"\u001b[39m\u001b[39mignore\u001b[39m\u001b[39m\"\u001b[39m:\n\u001b[0;32m-> 6934\u001b[0m         \u001b[39mraise\u001b[39;00m \u001b[39mKeyError\u001b[39;00m(\u001b[39mf\u001b[39m\u001b[39m\"\u001b[39m\u001b[39m{\u001b[39;00m\u001b[39mlist\u001b[39m(labels[mask])\u001b[39m}\u001b[39;00m\u001b[39m not found in axis\u001b[39m\u001b[39m\"\u001b[39m)\n\u001b[1;32m   6935\u001b[0m     indexer \u001b[39m=\u001b[39m indexer[\u001b[39m~\u001b[39mmask]\n\u001b[1;32m   6936\u001b[0m \u001b[39mreturn\u001b[39;00m \u001b[39mself\u001b[39m\u001b[39m.\u001b[39mdelete(indexer)\n",
            "\u001b[0;31mKeyError\u001b[0m: \"['Filament'] not found in axis\""
          ]
        }
      ],
      "source": [
        "path = \"Data/test\"\n",
        "val = pd.DataFrame()\n",
        "for file in os.listdir(path):\n",
        "    if (file.endswith('.csv')) & (file.startswith('19')):\n",
        "        df = pd.DataFrame()\n",
        "        df = pd.read_csv(path + \"/\"+ file)\n",
        "\n",
        "        df.drop(['Filament'], axis=1, inplace=True) # Drop Filament column\n",
        "        df.drop(['Emission'], axis=1, inplace=True) # Drop Emission column\n",
        "        df.drop(['Temp'], axis=1, inplace=True) # Drop Temp column\n",
        "        df.drop(['Test ID'], axis=1, inplace=True) # Drop Test ID column\n",
        "\n",
        "        df['502_to_69_ratio'] = df['502 m/z'] / df['69 m/z'] # Create new column with ratio of 502 m/z to 69 m/z\n",
        "\n",
        "        ############################################\n",
        "        #clean the datetime format\n",
        "        def clean_date(date):\n",
        "            if 'UTC' in date:\n",
        "                date = date.split('(')[0]\n",
        "                date = date.split(\"  \")[0]\n",
        "            return date\n",
        "\n",
        "        def convert_to_datetime(date):\n",
        "            date_string = date\n",
        "            date_format = '%d/%m/%Y %I:%M %p'\n",
        "\n",
        "            datetime_obj = datetime.strptime(date_string, date_format)\n",
        "            formatted_datetime = datetime_obj.strftime('%Y-%m-%d %H:%M:%S')\n",
        "            return formatted_datetime\n",
        "\n",
        "        df['Tune Date'] = df['Tune Date'].apply(lambda x: clean_date(x))\n",
        "        if 'UTC' in df['Tune Date'][0]:\n",
        "            df['Tune Date'] = df['Tune Date'].apply(lambda x: convert_to_datetime(x))\n",
        "\n",
        "        df['Tune Date'] = pd.to_datetime(df['Tune Date'])\n",
        "        df['total_hour_diff'] = df['Tune Date'].diff().apply(lambda x: x.total_seconds()/3600) # new column with total hour difference\n",
        "\n",
        "        df.drop(['Tune Date'], axis=1, inplace=True) # Drop Tune Date column\n",
        "        ############################################\n",
        "\n",
        "        # Perform PCA on the highly correlated columns\n",
        "        pca = PCA(n_components=1)\n",
        "        components = pca.fit_transform(df[['69 m/z', '70 m/z']])\n",
        "        print(pca.explained_variance_ratio_)\n",
        "        df['PCA_Component 69 m/z'] = components\n",
        "\n",
        "        pca = PCA(n_components=1)\n",
        "        components = pca.fit_transform(df[['219 m/z', '220 m/z']])\n",
        "        print(pca.explained_variance_ratio_)\n",
        "        df['PCA_Component 219 m/z'] = components\n",
        "\n",
        "        pca = PCA(n_components=1)\n",
        "        components = pca.fit_transform(df[['502 m/z', '503 m/z']])\n",
        "        print(pca.explained_variance_ratio_)\n",
        "        df['PCA_Component 502 m/z'] = components\n",
        "\n",
        "\n",
        "        # add columns for pct change\n",
        "        def precent_change(col_name , periods):\n",
        "            df[col_name + \" pct change \" + str(periods) + 'days'] = df[col_name].pct_change(periods=periods) * 100\n",
        "            return df[col_name + \" pct change \" + str(periods) + 'days']\n",
        "\n",
        "        for i in range (10):\n",
        "            precent_change('EM Volts', i+1)\n",
        "        for i in range (10):\n",
        "            precent_change('502_to_69_ratio', i+1)\n",
        "\n",
        "        val = pd.concat([val,df])\n",
        "val.fillna(0, inplace=True) # fill all NaN values with 0\n",
        "val\n",
        "\n",
        "# Perform one-hot encoding\n",
        "# one_hot_encoded = pd.get_dummies(val['System'], prefix='System')\n",
        "# # Concatenate the one-hot encoded DataFrame with the original DataFrame\n",
        "# val = pd.concat([val, one_hot_encoded], axis=1)\n",
        "#drop System column\n",
        "val.drop(['System'], axis=1, inplace=True)\n",
        "val.drop(['ID'], axis=1, inplace=True)\n",
        "val"
      ]
    },
    {
      "cell_type": "code",
      "execution_count": null,
      "metadata": {
        "id": "bUMV1Y9GbULk"
      },
      "outputs": [],
      "source": [
        "X_train = df1.drop(['Condition'], axis=1)\n",
        "y_train = df1['Condition']\n",
        "X_val = val.drop(['Condition'], axis=1)\n",
        "y_val = val['Condition']\n"
      ]
    },
    {
      "cell_type": "code",
      "execution_count": null,
      "metadata": {
        "colab": {
          "base_uri": "https://localhost:8080/"
        },
        "id": "xYeSJGV3bULl",
        "outputId": "19e96543-53c4-41be-88e9-a6fe0688d7e9"
      },
      "outputs": [
        {
          "data": {
            "text/plain": [
              "((61, 39), (177, 39))"
            ]
          },
          "execution_count": 31,
          "metadata": {},
          "output_type": "execute_result"
        }
      ],
      "source": [
        "X_val.shape, X_train.shape"
      ]
    },
    {
      "cell_type": "code",
      "execution_count": null,
      "metadata": {
        "colab": {
          "base_uri": "https://localhost:8080/"
        },
        "id": "CuucETmebULl",
        "outputId": "b23cc68c-3d20-4164-85fd-83c8e6a2bb4b"
      },
      "outputs": [
        {
          "data": {
            "text/plain": [
              "Index(['69 m/z', '70 m/z', '219 m/z', '220 m/z', '502 m/z', '503 m/z',\n",
              "       'Amu gain', 'Amu offset', 'EM Volts', 'Ent Lens', 'Ion Focus',\n",
              "       'Repeller', 'Ent Lens offset', 'Width219', '502_to_69_ratio',\n",
              "       'total_hour_diff', 'PCA_Component 69 m/z', 'PCA_Component 219 m/z',\n",
              "       'PCA_Component 502 m/z', 'EM Volts pct change 1days',\n",
              "       'EM Volts pct change 2days', 'EM Volts pct change 3days',\n",
              "       'EM Volts pct change 4days', 'EM Volts pct change 5days',\n",
              "       'EM Volts pct change 6days', 'EM Volts pct change 7days',\n",
              "       'EM Volts pct change 8days', 'EM Volts pct change 9days',\n",
              "       'EM Volts pct change 10days', '502_to_69_ratio pct change 1days',\n",
              "       '502_to_69_ratio pct change 2days', '502_to_69_ratio pct change 3days',\n",
              "       '502_to_69_ratio pct change 4days', '502_to_69_ratio pct change 5days',\n",
              "       '502_to_69_ratio pct change 6days', '502_to_69_ratio pct change 7days',\n",
              "       '502_to_69_ratio pct change 8days', '502_to_69_ratio pct change 9days',\n",
              "       '502_to_69_ratio pct change 10days'],\n",
              "      dtype='object')"
            ]
          },
          "execution_count": 32,
          "metadata": {},
          "output_type": "execute_result"
        }
      ],
      "source": [
        "X_train.columns"
      ]
    },
    {
      "cell_type": "code",
      "execution_count": null,
      "metadata": {
        "colab": {
          "base_uri": "https://localhost:8080/"
        },
        "id": "YnZTJygQbULm",
        "outputId": "56cf35f8-f676-418a-ff49-0500d001cc52"
      },
      "outputs": [
        {
          "data": {
            "text/plain": [
              "Index(['69 m/z', '70 m/z', '219 m/z', '220 m/z', '502 m/z', '503 m/z',\n",
              "       'Amu gain', 'Amu offset', 'EM Volts', 'Ent Lens', 'Ion Focus',\n",
              "       'Repeller', 'Ent Lens offset', 'Width219', '502_to_69_ratio',\n",
              "       'total_hour_diff', 'PCA_Component 69 m/z', 'PCA_Component 219 m/z',\n",
              "       'PCA_Component 502 m/z', 'EM Volts pct change 1days',\n",
              "       'EM Volts pct change 2days', 'EM Volts pct change 3days',\n",
              "       'EM Volts pct change 4days', 'EM Volts pct change 5days',\n",
              "       'EM Volts pct change 6days', 'EM Volts pct change 7days',\n",
              "       'EM Volts pct change 8days', 'EM Volts pct change 9days',\n",
              "       'EM Volts pct change 10days', '502_to_69_ratio pct change 1days',\n",
              "       '502_to_69_ratio pct change 2days', '502_to_69_ratio pct change 3days',\n",
              "       '502_to_69_ratio pct change 4days', '502_to_69_ratio pct change 5days',\n",
              "       '502_to_69_ratio pct change 6days', '502_to_69_ratio pct change 7days',\n",
              "       '502_to_69_ratio pct change 8days', '502_to_69_ratio pct change 9days',\n",
              "       '502_to_69_ratio pct change 10days'],\n",
              "      dtype='object')"
            ]
          },
          "execution_count": 33,
          "metadata": {},
          "output_type": "execute_result"
        }
      ],
      "source": [
        "X_val.columns"
      ]
    },
    {
      "cell_type": "code",
      "execution_count": null,
      "metadata": {
        "colab": {
          "base_uri": "https://localhost:8080/"
        },
        "id": "DFexP4K1bULm",
        "outputId": "c33a7aec-1b10-4942-a9f5-e44f3d47c933"
      },
      "outputs": [
        {
          "data": {
            "text/plain": [
              "Index(['69 m/z', '70 m/z', '219 m/z', '220 m/z', '502 m/z', '503 m/z',\n",
              "       'Amu gain', 'Amu offset', 'EM Volts', 'Ent Lens', 'Ion Focus',\n",
              "       'Repeller', 'Ent Lens offset', 'Width219', '502_to_69_ratio',\n",
              "       'total_hour_diff', 'PCA_Component 69 m/z', 'PCA_Component 219 m/z',\n",
              "       'PCA_Component 502 m/z', 'EM Volts pct change 1days',\n",
              "       'EM Volts pct change 2days', 'EM Volts pct change 3days',\n",
              "       'EM Volts pct change 4days', 'EM Volts pct change 5days',\n",
              "       'EM Volts pct change 6days', 'EM Volts pct change 7days',\n",
              "       'EM Volts pct change 8days', 'EM Volts pct change 9days',\n",
              "       'EM Volts pct change 10days', '502_to_69_ratio pct change 1days',\n",
              "       '502_to_69_ratio pct change 2days', '502_to_69_ratio pct change 3days',\n",
              "       '502_to_69_ratio pct change 4days', '502_to_69_ratio pct change 5days',\n",
              "       '502_to_69_ratio pct change 6days', '502_to_69_ratio pct change 7days',\n",
              "       '502_to_69_ratio pct change 8days', '502_to_69_ratio pct change 9days',\n",
              "       '502_to_69_ratio pct change 10days'],\n",
              "      dtype='object')"
            ]
          },
          "execution_count": 34,
          "metadata": {},
          "output_type": "execute_result"
        }
      ],
      "source": [
        "X_train.columns"
      ]
    },
    {
      "cell_type": "code",
      "execution_count": null,
      "metadata": {
        "id": "CWn4YaFUbULn"
      },
      "outputs": [],
      "source": [
        "# apply standard scalar\n",
        "from sklearn.preprocessing import StandardScaler\n",
        "scaler = StandardScaler()\n",
        "X_train = scaler.fit_transform(X_train)\n",
        "X_val = scaler.transform(X_val)\n"
      ]
    },
    {
      "cell_type": "code",
      "execution_count": null,
      "metadata": {
        "id": "U9ZwXS-obULo"
      },
      "outputs": [],
      "source": [
        "# # apply over sampling\n",
        "# from imblearn.over_sampling import SMOTE\n",
        "# from collections import Counter\n",
        "\n",
        "# sm = SMOTE(random_state=42)\n",
        "# print('Original dataset shape %s' % Counter(y_train))\n",
        "# X_train, y_train = sm.fit_resample(X_train, y_train)\n",
        "# print('Resampled dataset shape %s' % Counter(y_train))\n"
      ]
    },
    {
      "cell_type": "code",
      "execution_count": null,
      "metadata": {
        "colab": {
          "base_uri": "https://localhost:8080/"
        },
        "id": "XI6nL-i_bULo",
        "outputId": "5e3cd290-3fa5-4306-bb17-9485136d09d9"
      },
      "outputs": [
        {
          "name": "stdout",
          "output_type": "stream",
          "text": [
            "Accuracy: 0.9672131147540983\n",
            "precision_score: 0.0\n",
            "recall_score: 0.0\n",
            "f1_score: 0.0\n",
            "roc_auc_score 0.5\n"
          ]
        },
        {
          "name": "stderr",
          "output_type": "stream",
          "text": [
            "/usr/local/lib/python3.10/dist-packages/sklearn/metrics/_classification.py:1344: UndefinedMetricWarning: Precision is ill-defined and being set to 0.0 due to no predicted samples. Use `zero_division` parameter to control this behavior.\n",
            "  _warn_prf(average, modifier, msg_start, len(result))\n"
          ]
        }
      ],
      "source": [
        "# random forest\n",
        "from sklearn.ensemble import RandomForestClassifier\n",
        "from sklearn.metrics import accuracy_score, precision_score, recall_score, f1_score, roc_auc_score\n",
        "\n",
        "rf = RandomForestClassifier(n_estimators = 5000)\n",
        "rf.fit(X_train, y_train)\n",
        "y_pred = rf.predict(X_val)\n",
        "print(\"Accuracy:\", accuracy_score(y_val, y_pred))\n",
        "print(\"precision_score:\", precision_score(y_val, y_pred))\n",
        "print(\"recall_score:\", recall_score(y_val, y_pred))\n",
        "print(\"f1_score:\", f1_score(y_val, y_pred))\n",
        "print('roc_auc_score', roc_auc_score(y_val, y_pred))\n"
      ]
    },
    {
      "cell_type": "code",
      "execution_count": null,
      "metadata": {
        "colab": {
          "base_uri": "https://localhost:8080/"
        },
        "id": "9IMPvmmTbULo",
        "outputId": "c57c0c2f-657c-4b61-cc37-f523007b5bcb"
      },
      "outputs": [
        {
          "data": {
            "text/plain": [
              "(0     0\n",
              " 1     0\n",
              " 2     0\n",
              " 3     0\n",
              " 4     0\n",
              "      ..\n",
              " 56    0\n",
              " 57    0\n",
              " 58    0\n",
              " 59    0\n",
              " 60    1\n",
              " Name: Condition, Length: 61, dtype: int64,\n",
              " array([0, 0, 0, 0, 0, 0, 0, 0, 0, 0, 0, 0, 0, 0, 0, 0, 0, 0, 0, 0, 0, 0,\n",
              "        0, 0, 0, 0, 0, 0, 0, 0, 0, 0, 0, 0, 0, 0, 0, 0, 0, 0, 0, 0, 0, 0,\n",
              "        0, 0, 0, 0, 0, 0, 0, 0, 0, 0, 0, 0, 0, 0, 0, 0, 0]))"
            ]
          },
          "execution_count": 38,
          "metadata": {},
          "output_type": "execute_result"
        }
      ],
      "source": [
        "y_val, y_pred"
      ]
    },
    {
      "cell_type": "code",
      "execution_count": null,
      "metadata": {
        "colab": {
          "base_uri": "https://localhost:8080/"
        },
        "id": "1Hj9gEf-bULp",
        "outputId": "06c95b46-844b-4328-905a-791deca201dd"
      },
      "outputs": [
        {
          "name": "stdout",
          "output_type": "stream",
          "text": [
            "Accuracy: 0.9672131147540983\n",
            "precision_score: 0.0\n",
            "recall_score: 0.0\n",
            "f1_score: 0.0\n",
            "roc_auc_score 0.5\n"
          ]
        },
        {
          "name": "stderr",
          "output_type": "stream",
          "text": [
            "/usr/local/lib/python3.10/dist-packages/sklearn/metrics/_classification.py:1344: UndefinedMetricWarning: Precision is ill-defined and being set to 0.0 due to no predicted samples. Use `zero_division` parameter to control this behavior.\n",
            "  _warn_prf(average, modifier, msg_start, len(result))\n"
          ]
        }
      ],
      "source": [
        "# svc\n",
        "from sklearn.svm import SVC\n",
        "svc = SVC()\n",
        "svc.fit(X_train, y_train)\n",
        "y_pred = svc.predict(X_val)\n",
        "print(\"Accuracy:\", accuracy_score(y_val, y_pred))\n",
        "print(\"precision_score:\", precision_score(y_val, y_pred))\n",
        "print(\"recall_score:\", recall_score(y_val, y_pred))\n",
        "print(\"f1_score:\", f1_score(y_val, y_pred))\n",
        "print('roc_auc_score', roc_auc_score(y_val, y_pred))\n"
      ]
    },
    {
      "cell_type": "code",
      "execution_count": null,
      "metadata": {
        "colab": {
          "base_uri": "https://localhost:8080/"
        },
        "id": "KMEFhpqUbULp",
        "outputId": "8b93de80-3ae1-4ff4-9213-17962da6f7a9"
      },
      "outputs": [
        {
          "data": {
            "text/plain": [
              "(0     0\n",
              " 1     0\n",
              " 2     0\n",
              " 3     0\n",
              " 4     0\n",
              "      ..\n",
              " 56    0\n",
              " 57    0\n",
              " 58    0\n",
              " 59    0\n",
              " 60    1\n",
              " Name: Condition, Length: 61, dtype: int64,\n",
              " array([0, 0, 0, 0, 0, 0, 0, 0, 0, 0, 0, 0, 0, 0, 0, 0, 0, 0, 0, 0, 0, 0,\n",
              "        0, 0, 0, 0, 0, 0, 0, 0, 0, 0, 0, 0, 0, 0, 0, 0, 0, 0, 0, 0, 0, 0,\n",
              "        0, 0, 0, 0, 0, 0, 0, 0, 0, 0, 0, 0, 0, 0, 0, 0, 0]))"
            ]
          },
          "execution_count": 40,
          "metadata": {},
          "output_type": "execute_result"
        }
      ],
      "source": [
        "y_val, y_pred"
      ]
    },
    {
      "cell_type": "code",
      "execution_count": null,
      "metadata": {
        "id": "P1CVyHjEbULp"
      },
      "outputs": [],
      "source": [
        "import tensorflow as tf\n",
        "import tensorflow.keras as keras\n",
        "from tensorflow.keras.models import Sequential\n"
      ]
    },
    {
      "cell_type": "code",
      "execution_count": null,
      "metadata": {
        "colab": {
          "base_uri": "https://localhost:8080/"
        },
        "id": "pBdNmhJObULq",
        "outputId": "72a376d9-a113-4472-d7fd-4c807a9de083"
      },
      "outputs": [
        {
          "data": {
            "text/plain": [
              "39"
            ]
          },
          "execution_count": 42,
          "metadata": {},
          "output_type": "execute_result"
        }
      ],
      "source": [
        "X_train.shape[1]"
      ]
    },
    {
      "cell_type": "code",
      "execution_count": null,
      "metadata": {},
      "outputs": [],
      "source": [
        "epochs = 100\n",
        "neurons = 32\n",
        "dropout = 0.3\n",
        "learning_rate = 0.0001\n",
        "batch_size = 16\n",
        "shapesize = X_train.shape[1]\n",
        "\n",
        "model = tf.keras.Sequential([\n",
        "        tf.keras.layers.Dense(neurons, activation='relu', input_shape=(shapesize,)),\n",
        "        tf.keras.layers.Dropout(dropout_rate),\n",
        "\n",
        "        tf.keras.layers.Dense(neurons, activation='relu'),\n",
        "        tf.keras.layers.Dropout(dropout_rate),\n",
        "\n",
        "        tf.keras.layers.Dense(neurons, activation='relu'),\n",
        "        tf.keras.layers.Dropout(dropout_rate),\n",
        "\n",
        "        tf.keras.layers.Dense(1, activation='sigmoid')\n",
        "    ])\n",
        "\n",
        "    model.compile(optimizer=tf.keras.optimizers.Adam (learning_rate), loss='binary_crossentropy', metrics=['accuracy', 'AUC', 'Precision', 'Recall'])\n",
        "\n",
        "    history = model.fit(X_train, y_train,\n",
        "                        epochs=epochs, batch_size=batch_size,\n",
        "                        validation_data=( X_val, y_val ))"
      ]
    },
    {
      "cell_type": "code",
      "execution_count": 43,
      "metadata": {
        "id": "2feppbIZbULq"
      },
      "outputs": [],
      "source": [
        "# def train_tf_model(X_train, y_train, X_val, y_val, neurons, dropout_rate, epochs, learning_rate=0.01, batch_size = 32, shapesize = X_train.shape[1]):\n",
        "\n",
        "\n",
        "#     model = tf.keras.Sequential([\n",
        "#         tf.keras.layers.Dense(neurons, activation='relu', input_shape=(shapesize,)),\n",
        "#         tf.keras.layers.Dropout(dropout_rate),\n",
        "\n",
        "#         tf.keras.layers.Dense(neurons, activation='relu'),\n",
        "#         tf.keras.layers.Dropout(dropout_rate),\n",
        "\n",
        "#         tf.keras.layers.Dense(neurons, activation='relu'),\n",
        "#         tf.keras.layers.Dropout(dropout_rate),\n",
        "\n",
        "#         tf.keras.layers.Dense(1, activation='sigmoid')\n",
        "#     ])\n",
        "\n",
        "#     model.compile(optimizer=tf.keras.optimizers.Adam (learning_rate), loss='binary_crossentropy', metrics=['accuracy', 'AUC', 'Precision', 'Recall'])\n",
        "\n",
        "#     history = model.fit(X_train, y_train,\n",
        "#                         epochs=epochs, batch_size=batch_size,\n",
        "#                         validation_data=( X_val, y_val ))\n",
        "\n",
        "#     return history, model"
      ]
    },
    {
      "cell_type": "code",
      "execution_count": 1,
      "metadata": {
        "colab": {
          "base_uri": "https://localhost:8080/"
        },
        "id": "it18AwQObULq",
        "outputId": "5a552e5c-5671-4b22-93f6-61fab0770b36"
      },
      "outputs": [],
      "source": [
        "# epochs = 100\n",
        "# neurons = [16,32,64]\n",
        "# dropout = [0,0.3,0.5]\n",
        "# learning_rate = [0.01, 0.001, 0.0001]\n",
        "# batch_size = [16, 32]\n",
        "# df_DNN_result = pd.DataFrame()\n",
        "\n",
        "# result_df = pd.DataFrame(columns=['neurons', 'dropout', 'learning_rate', 'batch_size', 'accuracy', 'val_accuracy', 'auc', 'val_auc'])\n",
        "\n",
        "# for n in neurons:\n",
        "#     for d in dropout:\n",
        "#         for l in learning_rate:\n",
        "#             for b in batch_size:\n",
        "#                 history, model = train_tf_model(X_train, y_train, X_val, y_val, neurons=n, dropout_rate=d, epochs=epochs, learning_rate=l, batch_size=b)\n",
        "#                 df_DNN_result = df_DNN_result.append(pd.DataFrame(history.history).assign(neurons=n, dropout=d, learning_rate=l, batch_size=b))\n",
        "#                 print(f'neurons: {n}, dropout: {d}, learning_rate: {l}, batch_size: {b}')\n",
        "#                 print(f'accuracy: {history.history[\"accuracy\"][-1]}, val_accuracy: {history.history[\"val_accuracy\"][-1]}')\n",
        "#                 print(f'auc: {history.history[\"auc\"][-1]}, val_auc: {history.history[\"val_auc\"][-1]}')\n",
        "#                 print(f'precision: {history.history[\"precision\"][-1]}, val_precision: {history.history[\"val_precision\"][-1]}')\n",
        "#                 print(f'recall: {history.history[\"recall\"][-1]}, val_recall: {history.history[\"val_recall\"][-1]}')\n",
        "\n",
        "\n",
        "#                 result = pd.DataFrame(history.history)\n",
        "\n",
        "#                 result['neurons'] = n\n",
        "#                 result['dropout'] = d\n",
        "#                 result['learning_rate'] = l\n",
        "#                 result['batch_size'] = b\n",
        "#                 result_df = pd.concat([result_df, result], axis=0)\n",
        "#                 print('')"
      ]
    },
    {
      "cell_type": "code",
      "execution_count": null,
      "metadata": {
        "id": "_KKaydKZjvoV"
      },
      "outputs": [],
      "source": [
        "# def my_f1():\n",
        "# 2 * (precision * recall) / (precision + recall)"
      ]
    },
    {
      "cell_type": "code",
      "execution_count": null,
      "metadata": {
        "id": "_i05teD2bULq"
      },
      "outputs": [],
      "source": [
        "# result_df.to_csv('Result/time10 34 system.csv')"
      ]
    },
    {
      "cell_type": "code",
      "execution_count": null,
      "metadata": {
        "id": "hx9ikd4Hgs3P"
      },
      "outputs": [],
      "source": []
    }
  ],
  "metadata": {
    "colab": {
      "provenance": []
    },
    "kernelspec": {
      "display_name": "base",
      "language": "python",
      "name": "python3"
    },
    "language_info": {
      "codemirror_mode": {
        "name": "ipython",
        "version": 3
      },
      "file_extension": ".py",
      "mimetype": "text/x-python",
      "name": "python",
      "nbconvert_exporter": "python",
      "pygments_lexer": "ipython3",
      "version": "3.9.16"
    },
    "orig_nbformat": 4
  },
  "nbformat": 4,
  "nbformat_minor": 0
}
